{
 "cells": [
  {
   "cell_type": "code",
   "execution_count": 1,
   "metadata": {},
   "outputs": [
    {
     "name": "stdout",
     "output_type": "stream",
     "text": [
      "Grace Clunie\n",
      "One of Python's strengths is its diverse community.\n"
     ]
    }
   ],
   "source": [
    "#string variables\n",
    "firstName = 'Grace'\n",
    "lastName = 'Clunie'\n",
    "fullName = firstName + ' ' + lastName\n",
    "\n",
    "print fullName\n",
    "\n",
    "message = \"One of Python's strengths is its diverse community.\"\n",
    "print message"
   ]
  },
  {
   "cell_type": "code",
   "execution_count": 2,
   "metadata": {},
   "outputs": [
    {
     "name": "stdout",
     "output_type": "stream",
     "text": [
      "I'm 23 old\n"
     ]
    }
   ],
   "source": [
    "#integer variable\n",
    "myAge = 23\n",
    "\n",
    "#str() is a function built into python, transforms strings to integers. the int() function does the reverse\n",
    "message = \"I'm \" + str(myAge) + \" old\" \n",
    "print(message)\n",
    "\n"
   ]
  },
  {
   "cell_type": "code",
   "execution_count": 22,
   "metadata": {},
   "outputs": [
    {
     "name": "stdout",
     "output_type": "stream",
     "text": [
      "1\n",
      "7\n",
      "Grace\n"
     ]
    }
   ],
   "source": [
    "#list variable\n",
    "myList = [1, 2, 7, 7, firstName, lastName, myAge]\n",
    "\n",
    "#lists are indexed 0-n. So you can call on any item in a list with it's position number, like below\n",
    "print myList[0] \n",
    "print myList[2]\n",
    "print myList[4]"
   ]
  },
  {
   "cell_type": "code",
   "execution_count": 27,
   "metadata": {},
   "outputs": [
    {
     "name": "stdout",
     "output_type": "stream",
     "text": [
      "[1, 2, 'three', 7, 7, 'Grace', 'Clunie', 'blah', 'extend', 99]\n",
      "\n",
      "--------------------------------------------------\n",
      "\n",
      "[1, 2, 'three', 7, 7, 'Grace', 'Clunie', 23, 'blah', 'extend', 99, 100]\n"
     ]
    }
   ],
   "source": [
    "#remove items from list in 3 ways:\n",
    "myList.remove(myAge)     #by variable name or value or list position (ie index)\n",
    "#myList.remove(7)         \n",
    "#myList.remove(myList[0]) \n",
    "\n",
    "myList.pop() #by removing the last item in the list, in this case variable lastName\n",
    "\n",
    "print(myList)\n",
    "\n",
    "\n",
    "print '\\n' + '-' * 50 + '\\n' #visual divider \n",
    "\n",
    "\n",
    "\n",
    "myList = [1, 2, 7, 7, firstName, lastName, myAge] #restore list\n",
    "\n",
    "\n",
    "#add items to list in 3 ways:\n",
    "myList.append('blah')     #append onto the end\n",
    "myList.insert(2, 'three') #insert into position of your choosing\n",
    "myList = myList + ['extend', 99, 100] #combine two lists\n",
    "\n",
    "print(myList)"
   ]
  },
  {
   "cell_type": "code",
   "execution_count": 25,
   "metadata": {},
   "outputs": [
    {
     "name": "stdout",
     "output_type": "stream",
     "text": [
      "1\n",
      "2\n",
      "three\n",
      "7\n",
      "7\n",
      "Grace\n",
      "Clunie\n",
      "23\n",
      "blah\n",
      "extend\n",
      "99\n",
      "100\n"
     ]
    }
   ],
   "source": [
    "#for loop example. For loops iterate over each item they contain, first to last. \n",
    "\n",
    "for myItem in myList: #myItem is a temporary variable that becomes each item in the list\n",
    "    print myItem"
   ]
  },
  {
   "cell_type": "code",
   "execution_count": null,
   "metadata": {},
   "outputs": [],
   "source": [
    "#perform actions on each item in a list\n",
    "\n",
    "myList2 = [1, 2, 7, myAge, 99]\n",
    "\n",
    "for myItem in myList2:\n",
    "    plusOne = myItem + 1\n",
    "    print plusOne"
   ]
  },
  {
   "cell_type": "code",
   "execution_count": null,
   "metadata": {
    "collapsed": true
   },
   "outputs": [],
   "source": []
  }
 ],
 "metadata": {
  "kernelspec": {
   "display_name": "Python 2",
   "language": "python",
   "name": "python2"
  },
  "language_info": {
   "codemirror_mode": {
    "name": "ipython",
    "version": 2
   },
   "file_extension": ".py",
   "mimetype": "text/x-python",
   "name": "python",
   "nbconvert_exporter": "python",
   "pygments_lexer": "ipython2",
   "version": "2.7.13"
  }
 },
 "nbformat": 4,
 "nbformat_minor": 2
}
