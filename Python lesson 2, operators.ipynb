{
 "cells": [
  {
   "cell_type": "code",
   "execution_count": 38,
   "metadata": {},
   "outputs": [
    {
     "name": "stdout",
     "output_type": "stream",
     "text": [
      "[0, 1, 2, 3, 4, 5, 6, 7, 8, 9, 10, 11, 12, 13, 14, 15, 16, 17, 18, 19, 20, 21, 22, 23, 24, 25, 26, 27, 28, 29, 30, 31, 32, 33, 34, 35, 36, 37, 38, 39]\n",
      "\n",
      "---------------------------------------------------------------------------------------------------- \n",
      "\n",
      "E: 0\n",
      "F: 1\n",
      "E: 2\n",
      "F: 3\n",
      "E: 4\n",
      "F: 5\n",
      "E: 6\n",
      "F: 7\n",
      "E: 8\n",
      "F: 9\n",
      "E: 10\n",
      "F: 11\n",
      "E: 12\n",
      "F: 13\n",
      "E: 14\n",
      "F: 15\n",
      "D: 16\n",
      "D: 17\n",
      "D: 18\n",
      "D: 19\n",
      "D: 20\n",
      "F: 21\n",
      "C: 22\n",
      "C: 23\n",
      "C: 24\n",
      "B: 25\n",
      "B: 26\n",
      "B: 27\n",
      "B: 28\n",
      "B: 29\n",
      "A: 30\n",
      "A: 31\n",
      "A: 32\n",
      "A: 33\n",
      "A: 34\n",
      "A: 35\n",
      "A: 36\n",
      "A: 37\n",
      "A: 38\n",
      "A: 39\n",
      "\n",
      "---------------------------------------------------------------------------------------------------- \n",
      "\n",
      "[1, 9, 25, 49, 81, 121, 169, 225, 441]\n"
     ]
    }
   ],
   "source": [
    "myList = []\n",
    "\n",
    "for num in range(40): # same kind of for loop, this time we're iterating over each number in 40 using the range() function\n",
    "    myList.append(num)\n",
    "    \n",
    "print myList\n",
    "print '\\n', '-' * 100, '\\n' #visual break\n",
    "\n",
    "mySquares = []\n",
    "\n",
    "for item in myList:\n",
    "    \n",
    "    if item >= 30: \n",
    "        print 'A: ' + str(item) #if item is greater than or equal to 30, print\n",
    "        \n",
    "    elif item <= 30 and item >= 25:\n",
    "        print 'B: ' + str(item) #if item is less than equal to 30, AND greater than equal to 25, print\n",
    "        \n",
    "    elif item == 24 or item == 23 or item == 22:\n",
    "        print 'C: ' + str(item) #if item equals 24 or 23 or 22, print\n",
    "    \n",
    "    elif item != 21 and item > 15:\n",
    "        print 'D: ' + str(item) #if item does NOT equal 21 AND is greater than 15, print\n",
    "\n",
    "    elif item % 2 == 0:\n",
    "        print 'E: ' + str(item) #if item is divisible by 2 (ie it's even), print\n",
    "        \n",
    "    else:\n",
    "        print 'F: ' + str(item)\n",
    "        mySquares.append(item**2) #else print and then square item and append to list\n",
    "        \n",
    "        \n",
    "print '\\n', '-' * 100, '\\n'\n",
    "print mySquares"
   ]
  },
  {
   "cell_type": "code",
   "execution_count": null,
   "metadata": {
    "collapsed": true
   },
   "outputs": [],
   "source": []
  }
 ],
 "metadata": {
  "kernelspec": {
   "display_name": "Python 2",
   "language": "python",
   "name": "python2"
  },
  "language_info": {
   "codemirror_mode": {
    "name": "ipython",
    "version": 2
   },
   "file_extension": ".py",
   "mimetype": "text/x-python",
   "name": "python",
   "nbconvert_exporter": "python",
   "pygments_lexer": "ipython2",
   "version": "2.7.13"
  }
 },
 "nbformat": 4,
 "nbformat_minor": 2
}
