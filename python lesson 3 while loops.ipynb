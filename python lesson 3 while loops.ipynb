{
 "cells": [
  {
   "cell_type": "code",
   "execution_count": 1,
   "metadata": {},
   "outputs": [
    {
     "name": "stdout",
     "output_type": "stream",
     "text": [
      "flubberfdgdf\n"
     ]
    }
   ],
   "source": [
    "prompt = 'flubber '\n",
    "myInput = input(prompt)"
   ]
  },
  {
   "cell_type": "code",
   "execution_count": null,
   "metadata": {},
   "outputs": [],
   "source": [
    "#WHILE loops.  \n",
    "#while loop tells the computer to do something as long as the condition is met. \n",
    "#The condition is evaluated, and if the condition is true, the code within the block is executed. \n",
    "#This repeats until the condition becomes false. \n",
    "\n",
    "\n",
    "for i in range(20): #for loop with if statement. once met, exits loop\n",
    "    if i == 10:\n",
    "        print('condition met') \n",
    "        break\n",
    "    else:\n",
    "        print(i)\n",
    "        \n",
    "        \n",
    "print('\\n' + '-' *50 + '\\n')\n",
    "        \n",
    "myInt = 1\n",
    "while myInt < 10:   #while loop. does essentially same as above but more elegantly & without needing a list\n",
    "    print(myInt)\n",
    "    myInt = myInt + 1 #however unlike the for loop above, your temp variable wont automatically iterate\n",
    "else:\n",
    "    print(str(myInt) + ' condition met') "
   ]
  },
  {
   "cell_type": "code",
   "execution_count": null,
   "metadata": {},
   "outputs": [],
   "source": [
    "#assignment for this lesson:\n",
    "#1. get this while loop to stop asking you for input, ie meet its condition\n",
    "#2. write me an explanation about what's going on here\n",
    "\n",
    "myInput = ''\n",
    "prompt = 'enter your input for this loop: '\n",
    "\n",
    "while myInput != 'blarg':\n",
    "    myInput = input(prompt)\n",
    "else:\n",
    "    print(myInput + \" we're done here\")"
   ]
  }
 ],
 "metadata": {
  "kernelspec": {
   "display_name": "Python 3",
   "language": "python",
   "name": "python3"
  },
  "language_info": {
   "codemirror_mode": {
    "name": "ipython",
    "version": 3
   },
   "file_extension": ".py",
   "mimetype": "text/x-python",
   "name": "python",
   "nbconvert_exporter": "python",
   "pygments_lexer": "ipython3",
   "version": "3.6.2"
  }
 },
 "nbformat": 4,
 "nbformat_minor": 2
}
